{
 "cells": [
  {
   "cell_type": "code",
   "execution_count": 1,
   "metadata": {},
   "outputs": [],
   "source": [
    "import pandas as pd\n",
    "from CTL.causal_tree_learn import CausalTree\n",
    "from sklearn.model_selection import train_test_split\n",
    "import numpy as np\n",
    "import matplotlib.pyplot as plt"
   ]
  },
  {
   "cell_type": "code",
   "execution_count": 2,
   "metadata": {},
   "outputs": [
    {
     "data": {
      "text/plain": [
       "array([[-1.6 , -0.78, -1.77, ...,  1.  ,  1.  ,  1.  ],\n",
       "       [-2.42, -2.24, -1.46, ...,  1.  ,  1.  ,  0.  ],\n",
       "       [-1.  , -1.91,  0.41, ...,  0.  ,  1.  ,  1.  ],\n",
       "       ...,\n",
       "       [-0.88, -2.64,  1.31, ...,  1.  ,  0.  ,  0.  ],\n",
       "       [-1.3 , -1.24, -0.84, ...,  0.  ,  0.  ,  0.  ],\n",
       "       [ 0.06,  0.1 , -0.04, ...,  1.  ,  0.  ,  0.  ]])"
      ]
     },
     "execution_count": 2,
     "metadata": {},
     "output_type": "execute_result"
    }
   ],
   "source": [
    "# Import round 2 data\n",
    "rd2 = pd.read_csv('condensed_rd2.csv')\n",
    "rd2 = rd2.set_index('childid')\n",
    "X2 = rd2.iloc[:, :12].drop(['wi_new', 'sv_new'], axis=1)\n",
    "X2.values"
   ]
  },
  {
   "cell_type": "code",
   "execution_count": 3,
   "metadata": {},
   "outputs": [],
   "source": [
    "# Separate data into x, treatment, and y\n",
    "\n",
    "y = rd2['z_ppvt'].values\n",
    "treatment = rd2['shecon3'].values\n",
    "x = X2.values\n",
    "\n",
    "np.random.seed(0)"
   ]
  },
  {
   "cell_type": "code",
   "execution_count": 4,
   "metadata": {},
   "outputs": [],
   "source": [
    "# Split data into train and test\n",
    "x_train, x_test, y_train, y_test, treat_train, treat_test = train_test_split(x, y, treatment,\n",
    "                                                                             test_size=0.5, random_state=42)"
   ]
  },
  {
   "cell_type": "code",
   "execution_count": 5,
   "metadata": {},
   "outputs": [
    {
     "data": {
      "text/plain": [
       "array([[-0.7 , -0.93, -0.24, ...,  0.  ,  0.  ,  0.  ],\n",
       "       [ 0.06, -0.28,  0.3 , ...,  1.  ,  1.  ,  0.  ],\n",
       "       [-0.59,  0.24, -1.15, ...,  1.  ,  1.  ,  0.  ],\n",
       "       ...,\n",
       "       [ 0.06, -0.15,  0.19, ...,  1.  ,  0.  ,  0.  ],\n",
       "       [-1.35, -1.53, -0.54, ...,  0.  ,  0.  ,  0.  ],\n",
       "       [-1.74, -0.69, -2.11, ...,  1.  ,  1.  ,  0.  ]])"
      ]
     },
     "execution_count": 5,
     "metadata": {},
     "output_type": "execute_result"
    }
   ],
   "source": [
    "x_train"
   ]
  },
  {
   "cell_type": "markdown",
   "metadata": {},
   "source": [
    "# Regular CTL"
   ]
  },
  {
   "cell_type": "code",
   "execution_count": 6,
   "metadata": {},
   "outputs": [],
   "source": [
    "# train a conventional causal tree\n",
    "ctl = CausalTree(magnitude=False)\n",
    "ctl.fit(x_train, y_train, treat_train)\n",
    "ctl.prune()\n",
    "ctl_predict = ctl.predict(x_test)\n",
    "ctl.assign_feature_names(X2.columns)\n"
   ]
  },
  {
   "cell_type": "code",
   "execution_count": 7,
   "metadata": {},
   "outputs": [],
   "source": [
    "# Get feature combinations that lead to different groups / leaves of tree\n",
    "ctl_features = ctl.get_features(x_train)"
   ]
  },
  {
   "cell_type": "code",
   "execution_count": 8,
   "metadata": {},
   "outputs": [
    {
     "data": {
      "text/html": [
       "<div>\n",
       "<style scoped>\n",
       "    .dataframe tbody tr th:only-of-type {\n",
       "        vertical-align: middle;\n",
       "    }\n",
       "\n",
       "    .dataframe tbody tr th {\n",
       "        vertical-align: top;\n",
       "    }\n",
       "\n",
       "    .dataframe thead th {\n",
       "        text-align: right;\n",
       "    }\n",
       "</style>\n",
       "<table border=\"1\" class=\"dataframe\">\n",
       "  <thead>\n",
       "    <tr style=\"text-align: right;\">\n",
       "      <th></th>\n",
       "      <th>zwfa</th>\n",
       "      <th>zhfa</th>\n",
       "      <th>zbfa</th>\n",
       "      <th>caredu</th>\n",
       "      <th>hq_new</th>\n",
       "      <th>cd_new</th>\n",
       "      <th>drwaterq_new</th>\n",
       "      <th>toiletq_new</th>\n",
       "      <th>elecq_new</th>\n",
       "      <th>cookingq_new</th>\n",
       "      <th>shock</th>\n",
       "      <th>outcome</th>\n",
       "      <th>predicted ATE</th>\n",
       "      <th>group</th>\n",
       "    </tr>\n",
       "  </thead>\n",
       "  <tbody>\n",
       "    <tr>\n",
       "      <td>0</td>\n",
       "      <td>-0.70</td>\n",
       "      <td>-0.93</td>\n",
       "      <td>-0.24</td>\n",
       "      <td>0.0</td>\n",
       "      <td>0.270833</td>\n",
       "      <td>0.0</td>\n",
       "      <td>0.0</td>\n",
       "      <td>0.0</td>\n",
       "      <td>0.0</td>\n",
       "      <td>0.0</td>\n",
       "      <td>1</td>\n",
       "      <td>0.771780</td>\n",
       "      <td>0.785154</td>\n",
       "      <td>11.0</td>\n",
       "    </tr>\n",
       "    <tr>\n",
       "      <td>1</td>\n",
       "      <td>0.06</td>\n",
       "      <td>-0.28</td>\n",
       "      <td>0.30</td>\n",
       "      <td>0.0</td>\n",
       "      <td>0.316667</td>\n",
       "      <td>0.3</td>\n",
       "      <td>1.0</td>\n",
       "      <td>1.0</td>\n",
       "      <td>1.0</td>\n",
       "      <td>0.0</td>\n",
       "      <td>0</td>\n",
       "      <td>0.126715</td>\n",
       "      <td>-0.460232</td>\n",
       "      <td>7.0</td>\n",
       "    </tr>\n",
       "    <tr>\n",
       "      <td>2</td>\n",
       "      <td>-0.59</td>\n",
       "      <td>0.24</td>\n",
       "      <td>-1.15</td>\n",
       "      <td>0.0</td>\n",
       "      <td>0.283333</td>\n",
       "      <td>0.3</td>\n",
       "      <td>1.0</td>\n",
       "      <td>1.0</td>\n",
       "      <td>1.0</td>\n",
       "      <td>0.0</td>\n",
       "      <td>0</td>\n",
       "      <td>-0.357083</td>\n",
       "      <td>-1.170932</td>\n",
       "      <td>22.0</td>\n",
       "    </tr>\n",
       "    <tr>\n",
       "      <td>3</td>\n",
       "      <td>-0.08</td>\n",
       "      <td>0.46</td>\n",
       "      <td>-0.58</td>\n",
       "      <td>0.0</td>\n",
       "      <td>0.083333</td>\n",
       "      <td>0.2</td>\n",
       "      <td>0.0</td>\n",
       "      <td>0.0</td>\n",
       "      <td>0.0</td>\n",
       "      <td>0.0</td>\n",
       "      <td>0</td>\n",
       "      <td>-0.195817</td>\n",
       "      <td>0.860086</td>\n",
       "      <td>6.0</td>\n",
       "    </tr>\n",
       "    <tr>\n",
       "      <td>4</td>\n",
       "      <td>-3.25</td>\n",
       "      <td>-3.23</td>\n",
       "      <td>-1.58</td>\n",
       "      <td>0.0</td>\n",
       "      <td>0.305556</td>\n",
       "      <td>0.2</td>\n",
       "      <td>1.0</td>\n",
       "      <td>1.0</td>\n",
       "      <td>1.0</td>\n",
       "      <td>0.0</td>\n",
       "      <td>0</td>\n",
       "      <td>-0.115184</td>\n",
       "      <td>-0.103780</td>\n",
       "      <td>27.0</td>\n",
       "    </tr>\n",
       "  </tbody>\n",
       "</table>\n",
       "</div>"
      ],
      "text/plain": [
       "   zwfa  zhfa  zbfa  caredu    hq_new  cd_new  drwaterq_new  toiletq_new  \\\n",
       "0 -0.70 -0.93 -0.24     0.0  0.270833     0.0           0.0          0.0   \n",
       "1  0.06 -0.28  0.30     0.0  0.316667     0.3           1.0          1.0   \n",
       "2 -0.59  0.24 -1.15     0.0  0.283333     0.3           1.0          1.0   \n",
       "3 -0.08  0.46 -0.58     0.0  0.083333     0.2           0.0          0.0   \n",
       "4 -3.25 -3.23 -1.58     0.0  0.305556     0.2           1.0          1.0   \n",
       "\n",
       "   elecq_new  cookingq_new  shock   outcome  predicted ATE  group  \n",
       "0        0.0           0.0      1  0.771780       0.785154   11.0  \n",
       "1        1.0           0.0      0  0.126715      -0.460232    7.0  \n",
       "2        1.0           0.0      0 -0.357083      -1.170932   22.0  \n",
       "3        0.0           0.0      0 -0.195817       0.860086    6.0  \n",
       "4        1.0           0.0      0 -0.115184      -0.103780   27.0  "
      ]
     },
     "execution_count": 8,
     "metadata": {},
     "output_type": "execute_result"
    }
   ],
   "source": [
    "# Create dataframe of training data and group\n",
    "train_data_ctl = pd.DataFrame(x_train, columns=X2.columns)\n",
    "train_data_ctl['shock'] = treat_train\n",
    "train_data_ctl['outcome'] = y_train\n",
    "train_data_ctl['predicted ATE'] = ctl.predict(x_train)\n",
    "train_data_ctl['group'] = ctl.get_groups(x_train)\n",
    "train_data_ctl.head()"
   ]
  },
  {
   "cell_type": "code",
   "execution_count": 11,
   "metadata": {},
   "outputs": [
    {
     "data": {
      "text/html": [
       "<div>\n",
       "<style scoped>\n",
       "    .dataframe tbody tr th:only-of-type {\n",
       "        vertical-align: middle;\n",
       "    }\n",
       "\n",
       "    .dataframe tbody tr th {\n",
       "        vertical-align: top;\n",
       "    }\n",
       "\n",
       "    .dataframe thead th {\n",
       "        text-align: right;\n",
       "    }\n",
       "</style>\n",
       "<table border=\"1\" class=\"dataframe\">\n",
       "  <thead>\n",
       "    <tr style=\"text-align: right;\">\n",
       "      <th></th>\n",
       "      <th>predicted ATE</th>\n",
       "    </tr>\n",
       "    <tr>\n",
       "      <th>group</th>\n",
       "      <th></th>\n",
       "    </tr>\n",
       "  </thead>\n",
       "  <tbody>\n",
       "    <tr>\n",
       "      <td>1.0</td>\n",
       "      <td>-0.896520</td>\n",
       "    </tr>\n",
       "    <tr>\n",
       "      <td>2.0</td>\n",
       "      <td>-1.092165</td>\n",
       "    </tr>\n",
       "    <tr>\n",
       "      <td>3.0</td>\n",
       "      <td>-0.725698</td>\n",
       "    </tr>\n",
       "    <tr>\n",
       "      <td>4.0</td>\n",
       "      <td>-1.259668</td>\n",
       "    </tr>\n",
       "    <tr>\n",
       "      <td>5.0</td>\n",
       "      <td>-0.742400</td>\n",
       "    </tr>\n",
       "  </tbody>\n",
       "</table>\n",
       "</div>"
      ],
      "text/plain": [
       "       predicted ATE\n",
       "group               \n",
       "1.0        -0.896520\n",
       "2.0        -1.092165\n",
       "3.0        -0.725698\n",
       "4.0        -1.259668\n",
       "5.0        -0.742400"
      ]
     },
     "execution_count": 11,
     "metadata": {},
     "output_type": "execute_result"
    }
   ],
   "source": [
    "# Get average outcome for treated and untreated within each group\n",
    "group_ates_ctl = train_data_ctl.iloc[:, -2:].groupby('group').mean()\n",
    "group_ates_ctl.head()"
   ]
  },
  {
   "cell_type": "code",
   "execution_count": 12,
   "metadata": {},
   "outputs": [
    {
     "data": {
      "text/plain": [
       "-0.41544446840113214"
      ]
     },
     "execution_count": 12,
     "metadata": {},
     "output_type": "execute_result"
    }
   ],
   "source": [
    "# Calculate overall Average Treatment Effect\n",
    "overall_ate_ctl = sum(group_ates_ctl['predicted ATE'])/len(group_ates_ctl)\n",
    "overall_ate_ctl"
   ]
  },
  {
   "cell_type": "code",
   "execution_count": 13,
   "metadata": {},
   "outputs": [
    {
     "data": {
      "image/png": "[encoded data removed]",
      "text/plain": [
       "<Figure size 432x288 with 1 Axes>"
      ]
     },
     "metadata": {
      "needs_background": "light"
     },
     "output_type": "display_data"
    }
   ],
   "source": [
    "# Plot the distribution of ATEs over subgroups\n",
    "plt.hist(group_ates_ctl['predicted ATE'], bins=7, density=True)\n",
    "plt.title(\"Histogram of Average Treatment Effects for Subgroups - Regular Causal Tree\")\n",
    "plt.xlabel(\"Average Treatment Effect\")\n",
    "plt.ylabel(\"Proportion of Subgroups\")\n",
    "plt.show()"
   ]
  },
  {
   "cell_type": "markdown",
   "metadata": {},
   "source": [
    "# Honest CTL"
   ]
  },
  {
   "cell_type": "code",
   "execution_count": 14,
   "metadata": {},
   "outputs": [],
   "source": [
    "# honest CTL\n",
    "cthl = CausalTree(honest=True)\n",
    "cthl.fit(x_train, y_train, treat_train)\n",
    "cthl.prune()\n",
    "cthl_predict = cthl.predict(x_test)\n",
    "cthl.assign_feature_names(X2.columns)"
   ]
  },
  {
   "cell_type": "code",
   "execution_count": 15,
   "metadata": {},
   "outputs": [],
   "source": [
    "cthl_features = cthl.get_features(x_train)"
   ]
  },
  {
   "cell_type": "code",
   "execution_count": 16,
   "metadata": {},
   "outputs": [
    {
     "data": {
      "text/html": [
       "<div>\n",
       "<style scoped>\n",
       "    .dataframe tbody tr th:only-of-type {\n",
       "        vertical-align: middle;\n",
       "    }\n",
       "\n",
       "    .dataframe tbody tr th {\n",
       "        vertical-align: top;\n",
       "    }\n",
       "\n",
       "    .dataframe thead th {\n",
       "        text-align: right;\n",
       "    }\n",
       "</style>\n",
       "<table border=\"1\" class=\"dataframe\">\n",
       "  <thead>\n",
       "    <tr style=\"text-align: right;\">\n",
       "      <th></th>\n",
       "      <th>zwfa</th>\n",
       "      <th>zhfa</th>\n",
       "      <th>zbfa</th>\n",
       "      <th>caredu</th>\n",
       "      <th>hq_new</th>\n",
       "      <th>cd_new</th>\n",
       "      <th>drwaterq_new</th>\n",
       "      <th>toiletq_new</th>\n",
       "      <th>elecq_new</th>\n",
       "      <th>cookingq_new</th>\n",
       "      <th>shock</th>\n",
       "      <th>predicted ATE</th>\n",
       "      <th>group</th>\n",
       "    </tr>\n",
       "  </thead>\n",
       "  <tbody>\n",
       "    <tr>\n",
       "      <td>0</td>\n",
       "      <td>-0.70</td>\n",
       "      <td>-0.93</td>\n",
       "      <td>-0.24</td>\n",
       "      <td>0.0</td>\n",
       "      <td>0.270833</td>\n",
       "      <td>0.0</td>\n",
       "      <td>0.0</td>\n",
       "      <td>0.0</td>\n",
       "      <td>0.0</td>\n",
       "      <td>0.0</td>\n",
       "      <td>1</td>\n",
       "      <td>-0.551753</td>\n",
       "      <td>2.0</td>\n",
       "    </tr>\n",
       "    <tr>\n",
       "      <td>1</td>\n",
       "      <td>0.06</td>\n",
       "      <td>-0.28</td>\n",
       "      <td>0.30</td>\n",
       "      <td>0.0</td>\n",
       "      <td>0.316667</td>\n",
       "      <td>0.3</td>\n",
       "      <td>1.0</td>\n",
       "      <td>1.0</td>\n",
       "      <td>1.0</td>\n",
       "      <td>0.0</td>\n",
       "      <td>0</td>\n",
       "      <td>-0.551753</td>\n",
       "      <td>2.0</td>\n",
       "    </tr>\n",
       "    <tr>\n",
       "      <td>2</td>\n",
       "      <td>-0.59</td>\n",
       "      <td>0.24</td>\n",
       "      <td>-1.15</td>\n",
       "      <td>0.0</td>\n",
       "      <td>0.283333</td>\n",
       "      <td>0.3</td>\n",
       "      <td>1.0</td>\n",
       "      <td>1.0</td>\n",
       "      <td>1.0</td>\n",
       "      <td>0.0</td>\n",
       "      <td>0</td>\n",
       "      <td>-0.551753</td>\n",
       "      <td>2.0</td>\n",
       "    </tr>\n",
       "    <tr>\n",
       "      <td>3</td>\n",
       "      <td>-0.08</td>\n",
       "      <td>0.46</td>\n",
       "      <td>-0.58</td>\n",
       "      <td>0.0</td>\n",
       "      <td>0.083333</td>\n",
       "      <td>0.2</td>\n",
       "      <td>0.0</td>\n",
       "      <td>0.0</td>\n",
       "      <td>0.0</td>\n",
       "      <td>0.0</td>\n",
       "      <td>0</td>\n",
       "      <td>-0.551753</td>\n",
       "      <td>2.0</td>\n",
       "    </tr>\n",
       "    <tr>\n",
       "      <td>4</td>\n",
       "      <td>-3.25</td>\n",
       "      <td>-3.23</td>\n",
       "      <td>-1.58</td>\n",
       "      <td>0.0</td>\n",
       "      <td>0.305556</td>\n",
       "      <td>0.2</td>\n",
       "      <td>1.0</td>\n",
       "      <td>1.0</td>\n",
       "      <td>1.0</td>\n",
       "      <td>0.0</td>\n",
       "      <td>0</td>\n",
       "      <td>-0.551753</td>\n",
       "      <td>2.0</td>\n",
       "    </tr>\n",
       "  </tbody>\n",
       "</table>\n",
       "</div>"
      ],
      "text/plain": [
       "   zwfa  zhfa  zbfa  caredu    hq_new  cd_new  drwaterq_new  toiletq_new  \\\n",
       "0 -0.70 -0.93 -0.24     0.0  0.270833     0.0           0.0          0.0   \n",
       "1  0.06 -0.28  0.30     0.0  0.316667     0.3           1.0          1.0   \n",
       "2 -0.59  0.24 -1.15     0.0  0.283333     0.3           1.0          1.0   \n",
       "3 -0.08  0.46 -0.58     0.0  0.083333     0.2           0.0          0.0   \n",
       "4 -3.25 -3.23 -1.58     0.0  0.305556     0.2           1.0          1.0   \n",
       "\n",
       "   elecq_new  cookingq_new  shock  predicted ATE  group  \n",
       "0        0.0           0.0      1      -0.551753    2.0  \n",
       "1        1.0           0.0      0      -0.551753    2.0  \n",
       "2        1.0           0.0      0      -0.551753    2.0  \n",
       "3        0.0           0.0      0      -0.551753    2.0  \n",
       "4        1.0           0.0      0      -0.551753    2.0  "
      ]
     },
     "execution_count": 16,
     "metadata": {},
     "output_type": "execute_result"
    }
   ],
   "source": [
    "# Create dataframe of training data and group\n",
    "train_data_cthl = pd.DataFrame(x_train, columns=X2.columns)\n",
    "train_data_cthl['shock'] = treat_train\n",
    "train_data_cthl['predicted ATE'] = cthl.predict(x_train)\n",
    "train_data_cthl['group'] = cthl.get_groups(x_train)\n",
    "train_data_cthl.head()"
   ]
  },
  {
   "cell_type": "code",
   "execution_count": 17,
   "metadata": {},
   "outputs": [
    {
     "data": {
      "text/html": [
       "<div>\n",
       "<style scoped>\n",
       "    .dataframe tbody tr th:only-of-type {\n",
       "        vertical-align: middle;\n",
       "    }\n",
       "\n",
       "    .dataframe tbody tr th {\n",
       "        vertical-align: top;\n",
       "    }\n",
       "\n",
       "    .dataframe thead th {\n",
       "        text-align: right;\n",
       "    }\n",
       "</style>\n",
       "<table border=\"1\" class=\"dataframe\">\n",
       "  <thead>\n",
       "    <tr style=\"text-align: right;\">\n",
       "      <th></th>\n",
       "      <th>predicted ATE</th>\n",
       "    </tr>\n",
       "    <tr>\n",
       "      <th>group</th>\n",
       "      <th></th>\n",
       "    </tr>\n",
       "  </thead>\n",
       "  <tbody>\n",
       "    <tr>\n",
       "      <td>1.0</td>\n",
       "      <td>-1.026728</td>\n",
       "    </tr>\n",
       "    <tr>\n",
       "      <td>2.0</td>\n",
       "      <td>-0.551753</td>\n",
       "    </tr>\n",
       "  </tbody>\n",
       "</table>\n",
       "</div>"
      ],
      "text/plain": [
       "       predicted ATE\n",
       "group               \n",
       "1.0        -1.026728\n",
       "2.0        -0.551753"
      ]
     },
     "execution_count": 17,
     "metadata": {},
     "output_type": "execute_result"
    }
   ],
   "source": [
    "# Get average outcome for treated and untreated within each group\n",
    "group_ates_cthl = train_data_cthl.iloc[:, -2:].groupby('group').mean()\n",
    "group_ates_cthl"
   ]
  },
  {
   "cell_type": "code",
   "execution_count": 18,
   "metadata": {},
   "outputs": [
    {
     "data": {
      "text/plain": [
       "-0.7892402403723573"
      ]
     },
     "execution_count": 18,
     "metadata": {},
     "output_type": "execute_result"
    }
   ],
   "source": [
    "overall_ate_cthl = sum(group_ates_cthl['predicted ATE'])/len(group_ates_cthl)\n",
    "overall_ate_cthl"
   ]
  },
  {
   "cell_type": "code",
   "execution_count": 19,
   "metadata": {},
   "outputs": [
    {
     "data": {
      "image/png": "[encoded data removed]",
      "text/plain": [
       "<Figure size 432x288 with 1 Axes>"
      ]
     },
     "metadata": {
      "needs_background": "light"
     },
     "output_type": "display_data"
    }
   ],
   "source": [
    "plt.hist(group_ates_cthl['predicted ATE'], bins=7, density=True)\n",
    "plt.title(\"Histogram of Average Treatment Effects for Subgroups - Honest Causal Tree\")\n",
    "plt.xlabel(\"Average Treatment Effect\")\n",
    "plt.ylabel(\"Proportion of Subgroups\")\n",
    "plt.show()"
   ]
  },
  {
   "cell_type": "markdown",
   "metadata": {},
   "source": [
    "# Val Honest CTL"
   ]
  },
  {
   "cell_type": "code",
   "execution_count": 20,
   "metadata": {},
   "outputs": [],
   "source": [
    "cthv = CausalTree(val_honest=True)\n",
    "cthv.fit(x_train, y_train, treat_train)\n",
    "cthv.prune()\n",
    "cthv_predict = cthv.predict(x_test)\n",
    "cthv.assign_feature_names(X2.columns)"
   ]
  },
  {
   "cell_type": "code",
   "execution_count": 21,
   "metadata": {},
   "outputs": [],
   "source": [
    "cthv_features = cthv.get_features(x_train)"
   ]
  },
  {
   "cell_type": "code",
   "execution_count": 22,
   "metadata": {},
   "outputs": [
    {
     "data": {
      "text/html": [
       "<div>\n",
       "<style scoped>\n",
       "    .dataframe tbody tr th:only-of-type {\n",
       "        vertical-align: middle;\n",
       "    }\n",
       "\n",
       "    .dataframe tbody tr th {\n",
       "        vertical-align: top;\n",
       "    }\n",
       "\n",
       "    .dataframe thead th {\n",
       "        text-align: right;\n",
       "    }\n",
       "</style>\n",
       "<table border=\"1\" class=\"dataframe\">\n",
       "  <thead>\n",
       "    <tr style=\"text-align: right;\">\n",
       "      <th></th>\n",
       "      <th>zwfa</th>\n",
       "      <th>zhfa</th>\n",
       "      <th>zbfa</th>\n",
       "      <th>caredu</th>\n",
       "      <th>hq_new</th>\n",
       "      <th>cd_new</th>\n",
       "      <th>drwaterq_new</th>\n",
       "      <th>toiletq_new</th>\n",
       "      <th>elecq_new</th>\n",
       "      <th>cookingq_new</th>\n",
       "      <th>shock</th>\n",
       "      <th>predicted ATE</th>\n",
       "      <th>group</th>\n",
       "    </tr>\n",
       "  </thead>\n",
       "  <tbody>\n",
       "    <tr>\n",
       "      <td>0</td>\n",
       "      <td>-0.70</td>\n",
       "      <td>-0.93</td>\n",
       "      <td>-0.24</td>\n",
       "      <td>0.0</td>\n",
       "      <td>0.270833</td>\n",
       "      <td>0.0</td>\n",
       "      <td>0.0</td>\n",
       "      <td>0.0</td>\n",
       "      <td>0.0</td>\n",
       "      <td>0.0</td>\n",
       "      <td>1</td>\n",
       "      <td>-0.378683</td>\n",
       "      <td>1.0</td>\n",
       "    </tr>\n",
       "    <tr>\n",
       "      <td>1</td>\n",
       "      <td>0.06</td>\n",
       "      <td>-0.28</td>\n",
       "      <td>0.30</td>\n",
       "      <td>0.0</td>\n",
       "      <td>0.316667</td>\n",
       "      <td>0.3</td>\n",
       "      <td>1.0</td>\n",
       "      <td>1.0</td>\n",
       "      <td>1.0</td>\n",
       "      <td>0.0</td>\n",
       "      <td>0</td>\n",
       "      <td>-0.378683</td>\n",
       "      <td>1.0</td>\n",
       "    </tr>\n",
       "    <tr>\n",
       "      <td>2</td>\n",
       "      <td>-0.59</td>\n",
       "      <td>0.24</td>\n",
       "      <td>-1.15</td>\n",
       "      <td>0.0</td>\n",
       "      <td>0.283333</td>\n",
       "      <td>0.3</td>\n",
       "      <td>1.0</td>\n",
       "      <td>1.0</td>\n",
       "      <td>1.0</td>\n",
       "      <td>0.0</td>\n",
       "      <td>0</td>\n",
       "      <td>-0.583473</td>\n",
       "      <td>5.0</td>\n",
       "    </tr>\n",
       "    <tr>\n",
       "      <td>3</td>\n",
       "      <td>-0.08</td>\n",
       "      <td>0.46</td>\n",
       "      <td>-0.58</td>\n",
       "      <td>0.0</td>\n",
       "      <td>0.083333</td>\n",
       "      <td>0.2</td>\n",
       "      <td>0.0</td>\n",
       "      <td>0.0</td>\n",
       "      <td>0.0</td>\n",
       "      <td>0.0</td>\n",
       "      <td>0</td>\n",
       "      <td>-0.378683</td>\n",
       "      <td>1.0</td>\n",
       "    </tr>\n",
       "    <tr>\n",
       "      <td>4</td>\n",
       "      <td>-3.25</td>\n",
       "      <td>-3.23</td>\n",
       "      <td>-1.58</td>\n",
       "      <td>0.0</td>\n",
       "      <td>0.305556</td>\n",
       "      <td>0.2</td>\n",
       "      <td>1.0</td>\n",
       "      <td>1.0</td>\n",
       "      <td>1.0</td>\n",
       "      <td>0.0</td>\n",
       "      <td>0</td>\n",
       "      <td>-0.583473</td>\n",
       "      <td>5.0</td>\n",
       "    </tr>\n",
       "  </tbody>\n",
       "</table>\n",
       "</div>"
      ],
      "text/plain": [
       "   zwfa  zhfa  zbfa  caredu    hq_new  cd_new  drwaterq_new  toiletq_new  \\\n",
       "0 -0.70 -0.93 -0.24     0.0  0.270833     0.0           0.0          0.0   \n",
       "1  0.06 -0.28  0.30     0.0  0.316667     0.3           1.0          1.0   \n",
       "2 -0.59  0.24 -1.15     0.0  0.283333     0.3           1.0          1.0   \n",
       "3 -0.08  0.46 -0.58     0.0  0.083333     0.2           0.0          0.0   \n",
       "4 -3.25 -3.23 -1.58     0.0  0.305556     0.2           1.0          1.0   \n",
       "\n",
       "   elecq_new  cookingq_new  shock  predicted ATE  group  \n",
       "0        0.0           0.0      1      -0.378683    1.0  \n",
       "1        1.0           0.0      0      -0.378683    1.0  \n",
       "2        1.0           0.0      0      -0.583473    5.0  \n",
       "3        0.0           0.0      0      -0.378683    1.0  \n",
       "4        1.0           0.0      0      -0.583473    5.0  "
      ]
     },
     "execution_count": 22,
     "metadata": {},
     "output_type": "execute_result"
    }
   ],
   "source": [
    "# Create dataframe of training data and group\n",
    "train_data_cthv = pd.DataFrame(x_train, columns=X2.columns)\n",
    "train_data_cthv['shock'] = treat_train\n",
    "train_data_cthv['predicted ATE'] = cthv.predict(x_train)\n",
    "train_data_cthv['group'] = cthv.get_groups(x_train)\n",
    "train_data_cthv.head()"
   ]
  },
  {
   "cell_type": "code",
   "execution_count": 23,
   "metadata": {},
   "outputs": [
    {
     "data": {
      "text/html": [
       "<div>\n",
       "<style scoped>\n",
       "    .dataframe tbody tr th:only-of-type {\n",
       "        vertical-align: middle;\n",
       "    }\n",
       "\n",
       "    .dataframe tbody tr th {\n",
       "        vertical-align: top;\n",
       "    }\n",
       "\n",
       "    .dataframe thead th {\n",
       "        text-align: right;\n",
       "    }\n",
       "</style>\n",
       "<table border=\"1\" class=\"dataframe\">\n",
       "  <thead>\n",
       "    <tr style=\"text-align: right;\">\n",
       "      <th></th>\n",
       "      <th>predicted ATE</th>\n",
       "    </tr>\n",
       "    <tr>\n",
       "      <th>group</th>\n",
       "      <th></th>\n",
       "    </tr>\n",
       "  </thead>\n",
       "  <tbody>\n",
       "    <tr>\n",
       "      <td>1.0</td>\n",
       "      <td>-0.378683</td>\n",
       "    </tr>\n",
       "    <tr>\n",
       "      <td>2.0</td>\n",
       "      <td>-0.003665</td>\n",
       "    </tr>\n",
       "    <tr>\n",
       "      <td>4.0</td>\n",
       "      <td>-1.052132</td>\n",
       "    </tr>\n",
       "    <tr>\n",
       "      <td>5.0</td>\n",
       "      <td>-0.583473</td>\n",
       "    </tr>\n",
       "    <tr>\n",
       "      <td>7.0</td>\n",
       "      <td>-0.180081</td>\n",
       "    </tr>\n",
       "  </tbody>\n",
       "</table>\n",
       "</div>"
      ],
      "text/plain": [
       "       predicted ATE\n",
       "group               \n",
       "1.0        -0.378683\n",
       "2.0        -0.003665\n",
       "4.0        -1.052132\n",
       "5.0        -0.583473\n",
       "7.0        -0.180081"
      ]
     },
     "execution_count": 23,
     "metadata": {},
     "output_type": "execute_result"
    }
   ],
   "source": [
    "# Get average outcome for treated and untreated within each group\n",
    "group_ates_cthv = train_data_cthv.iloc[:, -2:].groupby('group').mean()\n",
    "group_ates_cthv"
   ]
  },
  {
   "cell_type": "code",
   "execution_count": 25,
   "metadata": {},
   "outputs": [
    {
     "data": {
      "text/plain": [
       "-0.43960664067620037"
      ]
     },
     "execution_count": 25,
     "metadata": {},
     "output_type": "execute_result"
    }
   ],
   "source": [
    "overall_ate_cthv = np.mean(group_ates_cthv['predicted ATE'])\n",
    "overall_ate_cthv"
   ]
  },
  {
   "cell_type": "code",
   "execution_count": 26,
   "metadata": {},
   "outputs": [
    {
     "data": {
      "image/png": "[encoded data removed]",
      "text/plain": [
       "<Figure size 432x288 with 1 Axes>"
      ]
     },
     "metadata": {
      "needs_background": "light"
     },
     "output_type": "display_data"
    }
   ],
   "source": [
    "plt.hist(group_ates_cthv['predicted ATE'], bins=7, density=True)\n",
    "plt.title(\"Histogram of Average Treatment Effects for Subgroups - Validation Honest Causal Tree\")\n",
    "plt.xlabel(\"Average Treatment Effect\")\n",
    "plt.ylabel(\"Proportion of Subgroups\")\n",
    "plt.show()"
   ]
  },
  {
   "cell_type": "code",
   "execution_count": null,
   "metadata": {},
   "outputs": [],
   "source": []
  },
  {
   "cell_type": "code",
   "execution_count": 27,
   "metadata": {},
   "outputs": [],
   "source": [
    "ctl.plot_tree(features=X2.columns, filename=\"young_lives/bin_tree\", show_effect=True)\n",
    "cthl.plot_tree(features=X2.columns, filename=\"young_lives/bin_tree_honest_learn\", show_effect=True)\n",
    "cthv.plot_tree(features=X2.columns, filename=\"young_lives/bin_tree_valhonest_learn\", show_effect=True)"
   ]
  },
  {
   "cell_type": "code",
   "execution_count": null,
   "metadata": {},
   "outputs": [],
   "source": []
  }
 ],
 "metadata": {
  "kernelspec": {
   "display_name": "Python 3",
   "language": "python",
   "name": "python3"
  },
  "language_info": {
   "codemirror_mode": {
    "name": "ipython",
    "version": 3
   },
   "file_extension": ".py",
   "mimetype": "text/x-python",
   "name": "python",
   "nbconvert_exporter": "python",
   "pygments_lexer": "ipython3",
   "version": "3.7.4"
  }
 },
 "nbformat": 4,
 "nbformat_minor": 2
}
